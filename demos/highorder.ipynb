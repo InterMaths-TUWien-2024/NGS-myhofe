{
 "cells": [
  {
   "cell_type": "markdown",
   "id": "5dc5bf2d",
   "metadata": {},
   "source": [
    "# High Order Finite Elements\n",
    "\n"
   ]
  },
  {
   "cell_type": "markdown",
   "id": "7af9450d",
   "metadata": {},
   "source": [
    "* Finite elements implement the basis functions:\n",
    "[myHOElement.hpp](/edit/myHOElement.hpp) \n",
    "[myHOElement.cpp](/edit/myHOElement.cpp)\n",
    "\n",
    "* Finite element spaces implement the enumeration of degrees of freedom, and creation of elements:\n",
    "[myHOFESpace.hpp](/edit/myHOFESpace.hpp) \n",
    "[myHOFESpace.cpp](/edit/myHOFESpace.cpp)\n",
    "\n"
   ]
  },
  {
   "cell_type": "code",
   "execution_count": 1,
   "id": "fb29e374",
   "metadata": {},
   "outputs": [
    {
     "name": "stdout",
     "output_type": "stream",
     "text": [
      "Loading myhofe library\n"
     ]
    }
   ],
   "source": [
    "from ngsolve import *\n",
    "from ngsolve.webgui import Draw\n",
    "from myhofe import MyHighOrderFESpace\n",
    "\n",
    "mesh = Mesh(unit_square.GenerateMesh(maxh=0.2, quad_dominated=False))"
   ]
  },
  {
   "cell_type": "markdown",
   "id": "74066dcd",
   "metadata": {},
   "source": [
    "We can now create an instance of our own finite element space:"
   ]
  },
  {
   "cell_type": "code",
   "execution_count": 2,
   "id": "122e9720",
   "metadata": {},
   "outputs": [],
   "source": [
    "fes = MyHighOrderFESpace(mesh, order=4, dirichlet=\"left|bottom|top\")"
   ]
  },
  {
   "cell_type": "markdown",
   "id": "23837763",
   "metadata": {},
   "source": [
    "and use it within NGSolve such as the builtin finite element spaces:"
   ]
  },
  {
   "cell_type": "code",
   "execution_count": 3,
   "id": "627a9cfb",
   "metadata": {},
   "outputs": [
    {
     "name": "stdout",
     "output_type": "stream",
     "text": [
      "ndof =  489\n"
     ]
    }
   ],
   "source": [
    "print (\"ndof = \", fes.ndof)"
   ]
  },
  {
   "cell_type": "code",
   "execution_count": 4,
   "id": "ae0deee7",
   "metadata": {},
   "outputs": [
    {
     "data": {
      "application/vnd.jupyter.widget-view+json": {
       "model_id": "b78e2a14d73747d3a667675c92d8131f",
       "version_major": 2,
       "version_minor": 0
      },
      "text/plain": [
       "WebGuiWidget(layout=Layout(height='500px', width='100%'), value={'gui_settings': {}, 'ngsolve_version': '6.2.2…"
      ]
     },
     "metadata": {},
     "output_type": "display_data"
    },
    {
     "data": {
      "application/vnd.jupyter.widget-view+json": {
       "model_id": "f2135958a78c4f5782e0da5e95bc5f83",
       "version_major": 2,
       "version_minor": 0
      },
      "text/plain": [
       "WebGuiWidget(layout=Layout(height='500px', width='100%'), value={'gui_settings': {}, 'ngsolve_version': '6.2.2…"
      ]
     },
     "metadata": {},
     "output_type": "display_data"
    }
   ],
   "source": [
    "gfu = GridFunction(fes)\n",
    "gfu.Set(x*x*y*y)\n",
    "\n",
    "Draw (gfu)\n",
    "Draw (grad(gfu)[0], mesh);"
   ]
  },
  {
   "cell_type": "markdown",
   "id": "b93211e8",
   "metadata": {},
   "source": [
    "and solve the standard problem:"
   ]
  },
  {
   "cell_type": "code",
   "execution_count": 5,
   "id": "5402e517",
   "metadata": {},
   "outputs": [
    {
     "data": {
      "application/vnd.jupyter.widget-view+json": {
       "model_id": "0690ed7fe3e44921af6e130e153ec472",
       "version_major": 2,
       "version_minor": 0
      },
      "text/plain": [
       "WebGuiWidget(layout=Layout(height='500px', width='100%'), value={'gui_settings': {}, 'ngsolve_version': '6.2.2…"
      ]
     },
     "metadata": {},
     "output_type": "display_data"
    }
   ],
   "source": [
    "u,v = fes.TnT()\n",
    "a = BilinearForm(grad(u)*grad(v)*dx).Assemble()\n",
    "f = LinearForm(10*v*dx).Assemble()\n",
    "gfu.vec.data = a.mat.Inverse(fes.FreeDofs())*f.vec\n",
    "Draw (gfu, order=3);"
   ]
  },
  {
   "cell_type": "code",
   "execution_count": 6,
   "id": "c6f1680c",
   "metadata": {},
   "outputs": [
    {
     "name": "stdout",
     "output_type": "stream",
     "text": [
      "[(1, 0.018470559015394374), (2, 0.0016028677378609755), (3, 0.00011616801306622024), (4, 5.803815226253984e-06), (5, 4.056875365473615e-07), (6, 1.0483439025780243e-08), (7, 7.453639114498798e-10), (8, 1.205791598142954e-11), (9, 8.837711441740575e-13), (10, 3.1286760270120043e-13), (11, 6.568521269026107e-13), (12, 1.242147288218785e-12), (13, 2.15425311663937e-12), (14, 4.277532602978796e-12)]\n"
     ]
    }
   ],
   "source": [
    "errlist = []\n",
    "for p in range(1,15):\n",
    "    fes = MyHighOrderFESpace(mesh, order=p)\n",
    "    func = sin(pi*x)*sin(pi*y)\n",
    "    gfu = GridFunction(fes)\n",
    "    gfu.Set(func)\n",
    "    err = sqrt(Integrate( (func-gfu)**2, mesh, order=5+2*p))\n",
    "    errlist.append((p,err))\n",
    "print (errlist)"
   ]
  },
  {
   "cell_type": "code",
   "execution_count": 7,
   "id": "9e204cbe",
   "metadata": {},
   "outputs": [
    {
     "data": {
      "image/png": "[encoded data removed]",
      "text/plain": [
       "<Figure size 640x480 with 1 Axes>"
      ]
     },
     "metadata": {},
     "output_type": "display_data"
    }
   ],
   "source": [
    "import matplotlib.pyplot as plt\n",
    "n,err = zip(*errlist)\n",
    "plt.yscale('log')\n",
    "plt.plot(n,err);"
   ]
  },
  {
   "cell_type": "markdown",
   "id": "ad3d3978",
   "metadata": {},
   "source": [
    "**Exercises:**\n",
    "\n",
    "Extend MyHighOrderFESpace by high order quadrilateral elements.\n",
    "\n",
    "http://www.numa.uni-linz.ac.at/Teaching/PhD/Finished/zaglmayr-diss.pdf, \n",
    "page 68 ff"
   ]
  },
  {
   "cell_type": "code",
   "execution_count": null,
   "id": "7c1edee8",
   "metadata": {},
   "outputs": [],
   "source": []
  }
 ],
 "metadata": {
  "kernelspec": {
   "display_name": "Python 3 (ipykernel)",
   "language": "python",
   "name": "python3"
  },
  "language_info": {
   "codemirror_mode": {
    "name": "ipython",
    "version": 3
   },
   "file_extension": ".py",
   "mimetype": "text/x-python",
   "name": "python",
   "nbconvert_exporter": "python",
   "pygments_lexer": "ipython3",
   "version": "3.12.3"
  }
 },
 "nbformat": 4,
 "nbformat_minor": 5
}
